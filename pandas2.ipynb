{
 "cells": [
  {
   "cell_type": "code",
   "execution_count": 2,
   "id": "d4cbcccd-cdf4-4746-b64b-7d86a6271d44",
   "metadata": {},
   "outputs": [],
   "source": [
    "import pandas as pd\n",
    "df = pd.read_csv(\"Desktop/datasets/Bankrupt.csv\")"
   ]
  },
  {
   "cell_type": "code",
   "execution_count": 4,
   "id": "f7a18c6f-79c3-46ab-9fa0-0a3fcebf2c10",
   "metadata": {},
   "outputs": [
    {
     "data": {
      "text/html": [
       "<div>\n",
       "<style scoped>\n",
       "    .dataframe tbody tr th:only-of-type {\n",
       "        vertical-align: middle;\n",
       "    }\n",
       "\n",
       "    .dataframe tbody tr th {\n",
       "        vertical-align: top;\n",
       "    }\n",
       "\n",
       "    .dataframe thead th {\n",
       "        text-align: right;\n",
       "    }\n",
       "</style>\n",
       "<table border=\"1\" class=\"dataframe\">\n",
       "  <thead>\n",
       "    <tr style=\"text-align: right;\">\n",
       "      <th></th>\n",
       "      <th>Status</th>\n",
       "      <th>CF/TD</th>\n",
       "      <th>NI/TA</th>\n",
       "      <th>CA/CL</th>\n",
       "      <th>CA/NS</th>\n",
       "    </tr>\n",
       "  </thead>\n",
       "  <tbody>\n",
       "    <tr>\n",
       "      <th>0</th>\n",
       "      <td>1</td>\n",
       "      <td>-0.4485</td>\n",
       "      <td>-0.4106</td>\n",
       "      <td>1.0865</td>\n",
       "      <td>0.4526</td>\n",
       "    </tr>\n",
       "    <tr>\n",
       "      <th>1</th>\n",
       "      <td>1</td>\n",
       "      <td>-0.5633</td>\n",
       "      <td>-0.3114</td>\n",
       "      <td>1.5134</td>\n",
       "      <td>0.1642</td>\n",
       "    </tr>\n",
       "    <tr>\n",
       "      <th>2</th>\n",
       "      <td>1</td>\n",
       "      <td>0.0643</td>\n",
       "      <td>0.0156</td>\n",
       "      <td>1.0077</td>\n",
       "      <td>0.3978</td>\n",
       "    </tr>\n",
       "    <tr>\n",
       "      <th>3</th>\n",
       "      <td>1</td>\n",
       "      <td>-0.0721</td>\n",
       "      <td>-0.0930</td>\n",
       "      <td>1.4544</td>\n",
       "      <td>0.2589</td>\n",
       "    </tr>\n",
       "    <tr>\n",
       "      <th>4</th>\n",
       "      <td>1</td>\n",
       "      <td>-0.1002</td>\n",
       "      <td>-0.0917</td>\n",
       "      <td>1.5644</td>\n",
       "      <td>0.6683</td>\n",
       "    </tr>\n",
       "  </tbody>\n",
       "</table>\n",
       "</div>"
      ],
      "text/plain": [
       "   Status   CF/TD   NI/TA   CA/CL   CA/NS\n",
       "0       1 -0.4485 -0.4106  1.0865  0.4526\n",
       "1       1 -0.5633 -0.3114  1.5134  0.1642\n",
       "2       1  0.0643  0.0156  1.0077  0.3978\n",
       "3       1 -0.0721 -0.0930  1.4544  0.2589\n",
       "4       1 -0.1002 -0.0917  1.5644  0.6683"
      ]
     },
     "execution_count": 4,
     "metadata": {},
     "output_type": "execute_result"
    }
   ],
   "source": [
    "df.head()"
   ]
  },
  {
   "cell_type": "code",
   "execution_count": 5,
   "id": "659d8620-55a6-4424-903a-b90f133ffec2",
   "metadata": {},
   "outputs": [
    {
     "data": {
      "text/html": [
       "<div>\n",
       "<style scoped>\n",
       "    .dataframe tbody tr th:only-of-type {\n",
       "        vertical-align: middle;\n",
       "    }\n",
       "\n",
       "    .dataframe tbody tr th {\n",
       "        vertical-align: top;\n",
       "    }\n",
       "\n",
       "    .dataframe thead th {\n",
       "        text-align: right;\n",
       "    }\n",
       "</style>\n",
       "<table border=\"1\" class=\"dataframe\">\n",
       "  <thead>\n",
       "    <tr style=\"text-align: right;\">\n",
       "      <th></th>\n",
       "      <th>Status</th>\n",
       "      <th>CF/TD</th>\n",
       "      <th>NI/TA</th>\n",
       "      <th>CA/CL</th>\n",
       "      <th>CA/NS</th>\n",
       "    </tr>\n",
       "  </thead>\n",
       "  <tbody>\n",
       "    <tr>\n",
       "      <th>41</th>\n",
       "      <td>0</td>\n",
       "      <td>0.5603</td>\n",
       "      <td>0.1112</td>\n",
       "      <td>4.2918</td>\n",
       "      <td>0.4443</td>\n",
       "    </tr>\n",
       "    <tr>\n",
       "      <th>42</th>\n",
       "      <td>0</td>\n",
       "      <td>0.2029</td>\n",
       "      <td>0.0792</td>\n",
       "      <td>1.9936</td>\n",
       "      <td>0.3018</td>\n",
       "    </tr>\n",
       "    <tr>\n",
       "      <th>43</th>\n",
       "      <td>0</td>\n",
       "      <td>0.4746</td>\n",
       "      <td>0.1380</td>\n",
       "      <td>2.9166</td>\n",
       "      <td>0.4487</td>\n",
       "    </tr>\n",
       "    <tr>\n",
       "      <th>44</th>\n",
       "      <td>0</td>\n",
       "      <td>0.1661</td>\n",
       "      <td>0.0351</td>\n",
       "      <td>2.4527</td>\n",
       "      <td>0.1370</td>\n",
       "    </tr>\n",
       "    <tr>\n",
       "      <th>45</th>\n",
       "      <td>0</td>\n",
       "      <td>0.5808</td>\n",
       "      <td>0.0371</td>\n",
       "      <td>5.0594</td>\n",
       "      <td>0.1268</td>\n",
       "    </tr>\n",
       "  </tbody>\n",
       "</table>\n",
       "</div>"
      ],
      "text/plain": [
       "    Status   CF/TD   NI/TA   CA/CL   CA/NS\n",
       "41       0  0.5603  0.1112  4.2918  0.4443\n",
       "42       0  0.2029  0.0792  1.9936  0.3018\n",
       "43       0  0.4746  0.1380  2.9166  0.4487\n",
       "44       0  0.1661  0.0351  2.4527  0.1370\n",
       "45       0  0.5808  0.0371  5.0594  0.1268"
      ]
     },
     "execution_count": 5,
     "metadata": {},
     "output_type": "execute_result"
    }
   ],
   "source": [
    "df.tail()"
   ]
  },
  {
   "cell_type": "code",
   "execution_count": null,
   "id": "60ab32bd-d5e2-404a-99dc-560490c43e98",
   "metadata": {},
   "outputs": [],
   "source": []
  }
 ],
 "metadata": {
  "kernelspec": {
   "display_name": "Python 3 (ipykernel)",
   "language": "python",
   "name": "python3"
  },
  "language_info": {
   "codemirror_mode": {
    "name": "ipython",
    "version": 3
   },
   "file_extension": ".py",
   "mimetype": "text/x-python",
   "name": "python",
   "nbconvert_exporter": "python",
   "pygments_lexer": "ipython3",
   "version": "3.9.7"
  },
  "toc-showtags": true
 },
 "nbformat": 4,
 "nbformat_minor": 5
}
